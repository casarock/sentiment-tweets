{
 "cells": [
  {
   "cell_type": "code",
   "execution_count": 18,
   "metadata": {},
   "outputs": [],
   "source": [
    "import TweetAnalyser\n",
    "\n",
    "al = TweetAnalyser.TweetAnalyser('2020-06-24_10:08:33-tweets.csv')"
   ]
  },
  {
   "cell_type": "code",
   "execution_count": 19,
   "metadata": {},
   "outputs": [],
   "source": [
    "al.load_tweets()"
   ]
  },
  {
   "cell_type": "code",
   "execution_count": 20,
   "metadata": {},
   "outputs": [],
   "source": [
    "al.analyse_tweets()"
   ]
  },
  {
   "cell_type": "code",
   "execution_count": 15,
   "metadata": {},
   "outputs": [
    {
     "output_type": "execute_result",
     "data": {
      "text/plain": "{'sum': 564, 'p_pos': 25, 'p_neg': 12, 'p_neu': 63}"
     },
     "metadata": {},
     "execution_count": 15
    }
   ],
   "source": [
    "al.get_sentiment_results()"
   ]
  },
  {
   "cell_type": "code",
   "execution_count": 16,
   "metadata": {},
   "outputs": [
    {
     "output_type": "execute_result",
     "data": {
      "text/plain": "                   date                                               text  \\\n0   2020-06-16 16:59:26  Out of the door, line on the left, on #CoronaW...   \n1   2020-06-16 16:59:24  OB IHR MAL MIT DEM INSTALLIEREN DER KACK #Coro...   \n2   2020-06-16 16:59:06  Was ich ernsthaft gerne in der #CoronaWarnApp ...   \n3   2020-06-16 16:59:05  Wenn denn das Verständnis für die #coronawarna...   \n4   2020-06-16 16:58:55  Mitmachen! Danke! 🙏🏻\\n#CoronaWarnApp #CoronaAp...   \n..                  ...                                                ...   \n559 2020-06-16 15:44:34  Hat man unter Android Zugriff auf die Datenban...   \n560 2020-06-16 15:44:30  Die Corona Warn App, ist so Unnötig. Nur Daten...   \n561 2020-06-16 15:44:27  The #CoronaWarnApp was released in Germany tod...   \n562 2020-06-16 15:44:19  @FrReschke • Was hat Maas mit der #CoronaWarnA...   \n563 2020-06-16 15:44:16  コロナ警戒アプリ #CoronaWarnApp が初のリリース：ZDFの情報によると、75万...   \n\n                                               cleaned  sentiment  \n0       Out of the door line on the left on tweet each   0.000000  \n1    OB IHR MAL MIT DEM INSTALLIEREN DER KACK IN DI...   0.000000  \n2    Was ich ernsthaft gerne in der hätte Eine klei...   0.350000  \n3    Wenn denn das Verständnis für die groß genug i...   0.700000  \n4    Mitmachen Danke 🙏🏻 Erklärung So funktioniert d...   0.000000  \n..                                                 ...        ...  \n559  Hat man unter Android Zugriff auf die Datenban...   0.000000  \n560  Die Corona Warn App ist so Unnötig Nur Datenvo...  -0.333333  \n561  The was released in Germany today As a good ci...   0.000000  \n562                      • Was hat Maas mit der zu tun   0.000000  \n563  コロナ警戒アプリ が初のリリース：ZDFの情報によると、75万人のユーザーが初日にアプリをダ...   0.000000  \n\n[564 rows x 4 columns]",
      "text/html": "<div>\n<style scoped>\n    .dataframe tbody tr th:only-of-type {\n        vertical-align: middle;\n    }\n\n    .dataframe tbody tr th {\n        vertical-align: top;\n    }\n\n    .dataframe thead th {\n        text-align: right;\n    }\n</style>\n<table border=\"1\" class=\"dataframe\">\n  <thead>\n    <tr style=\"text-align: right;\">\n      <th></th>\n      <th>date</th>\n      <th>text</th>\n      <th>cleaned</th>\n      <th>sentiment</th>\n    </tr>\n  </thead>\n  <tbody>\n    <tr>\n      <th>0</th>\n      <td>2020-06-16 16:59:26</td>\n      <td>Out of the door, line on the left, on #CoronaW...</td>\n      <td>Out of the door line on the left on tweet each</td>\n      <td>0.000000</td>\n    </tr>\n    <tr>\n      <th>1</th>\n      <td>2020-06-16 16:59:24</td>\n      <td>OB IHR MAL MIT DEM INSTALLIEREN DER KACK #Coro...</td>\n      <td>OB IHR MAL MIT DEM INSTALLIEREN DER KACK IN DI...</td>\n      <td>0.000000</td>\n    </tr>\n    <tr>\n      <th>2</th>\n      <td>2020-06-16 16:59:06</td>\n      <td>Was ich ernsthaft gerne in der #CoronaWarnApp ...</td>\n      <td>Was ich ernsthaft gerne in der hätte Eine klei...</td>\n      <td>0.350000</td>\n    </tr>\n    <tr>\n      <th>3</th>\n      <td>2020-06-16 16:59:05</td>\n      <td>Wenn denn das Verständnis für die #coronawarna...</td>\n      <td>Wenn denn das Verständnis für die groß genug i...</td>\n      <td>0.700000</td>\n    </tr>\n    <tr>\n      <th>4</th>\n      <td>2020-06-16 16:58:55</td>\n      <td>Mitmachen! Danke! 🙏🏻\\n#CoronaWarnApp #CoronaAp...</td>\n      <td>Mitmachen Danke 🙏🏻 Erklärung So funktioniert d...</td>\n      <td>0.000000</td>\n    </tr>\n    <tr>\n      <th>...</th>\n      <td>...</td>\n      <td>...</td>\n      <td>...</td>\n      <td>...</td>\n    </tr>\n    <tr>\n      <th>559</th>\n      <td>2020-06-16 15:44:34</td>\n      <td>Hat man unter Android Zugriff auf die Datenban...</td>\n      <td>Hat man unter Android Zugriff auf die Datenban...</td>\n      <td>0.000000</td>\n    </tr>\n    <tr>\n      <th>560</th>\n      <td>2020-06-16 15:44:30</td>\n      <td>Die Corona Warn App, ist so Unnötig. Nur Daten...</td>\n      <td>Die Corona Warn App ist so Unnötig Nur Datenvo...</td>\n      <td>-0.333333</td>\n    </tr>\n    <tr>\n      <th>561</th>\n      <td>2020-06-16 15:44:27</td>\n      <td>The #CoronaWarnApp was released in Germany tod...</td>\n      <td>The was released in Germany today As a good ci...</td>\n      <td>0.000000</td>\n    </tr>\n    <tr>\n      <th>562</th>\n      <td>2020-06-16 15:44:19</td>\n      <td>@FrReschke • Was hat Maas mit der #CoronaWarnA...</td>\n      <td>• Was hat Maas mit der zu tun</td>\n      <td>0.000000</td>\n    </tr>\n    <tr>\n      <th>563</th>\n      <td>2020-06-16 15:44:16</td>\n      <td>コロナ警戒アプリ #CoronaWarnApp が初のリリース：ZDFの情報によると、75万...</td>\n      <td>コロナ警戒アプリ が初のリリース：ZDFの情報によると、75万人のユーザーが初日にアプリをダ...</td>\n      <td>0.000000</td>\n    </tr>\n  </tbody>\n</table>\n<p>564 rows × 4 columns</p>\n</div>"
     },
     "metadata": {},
     "execution_count": 16
    }
   ],
   "source": [
    "al.tweets"
   ]
  },
  {
   "cell_type": "code",
   "execution_count": 10,
   "metadata": {},
   "outputs": [
    {
     "output_type": "execute_result",
     "data": {
      "text/plain": "FreqDist({'App': 80, '14': 65, 'all': 54, '…': 51, 'schon': 38, 'Corona': 36, 'installieren': 31, 'Ich': 31, 'geben': 29, 'de': 28, ...})"
     },
     "metadata": {},
     "execution_count": 10
    }
   ],
   "source": [
    "al.word_distribution"
   ]
  },
  {
   "cell_type": "code",
   "execution_count": 21,
   "metadata": {},
   "outputs": [],
   "source": [
    "al.tweets.to_csv('20200624_cleaned_tweets.csv', index=False)"
   ]
  },
  {
   "cell_type": "code",
   "execution_count": 22,
   "metadata": {},
   "outputs": [],
   "source": [
    "from wordcloud import WordCloud\n"
   ]
  },
  {
   "cell_type": "code",
   "execution_count": 23,
   "metadata": {},
   "outputs": [
    {
     "output_type": "execute_result",
     "data": {
      "text/plain": "<wordcloud.wordcloud.WordCloud at 0x7f997e541730>"
     },
     "metadata": {},
     "execution_count": 23
    }
   ],
   "source": [
    "wordcloud = WordCloud(max_words=60, max_font_size=100, width=800, height=200, margin=0, background_color = \"white\")\n",
    "wordcloud.generate_from_frequencies(dict(al.word_distribution))"
   ]
  },
  {
   "cell_type": "code",
   "execution_count": null,
   "metadata": {},
   "outputs": [],
   "source": [
    "import matplotlib.pyplot as plt\n",
    "plt.imshow(wordcloud, interpolation='bilinear')\n",
    "plt.axis(\"off\")"
   ]
  },
  {
   "cell_type": "code",
   "execution_count": null,
   "metadata": {},
   "outputs": [],
   "source": []
  }
 ],
 "metadata": {
  "kernelspec": {
   "display_name": "Python 3.8.1 64-bit ('tweetbot': conda)",
   "language": "python",
   "name": "python38164bittweetbotconda4f66bc5eb1dc4c56a8c87e25489a07bd"
  },
  "language_info": {
   "codemirror_mode": {
    "name": "ipython",
    "version": 3
   },
   "file_extension": ".py",
   "mimetype": "text/x-python",
   "name": "python",
   "nbconvert_exporter": "python",
   "pygments_lexer": "ipython3",
   "version": "3.8.1-final"
  }
 },
 "nbformat": 4,
 "nbformat_minor": 4
}